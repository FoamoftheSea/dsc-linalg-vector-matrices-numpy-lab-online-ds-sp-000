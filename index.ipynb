{
 "cells": [
  {
   "cell_type": "markdown",
   "metadata": {},
   "source": [
    "# Vectors and Matrices in Numpy - Lab\n",
    "\n",
    "## Introduction\n",
    "\n",
    "In this lab, you'll solve some simple matrix creation and manipulation exercises based on what you've learned so far in this section. The key takeaway here is to be able to understand how to use indexing with matrices and vectors while applying some basic operations.\n",
    "\n",
    "## Objectives\n",
    "\n",
    "In this lab you will: \n",
    "\n",
    "- Find the shape of vectors and matrices \n",
    "- Access and manipulate individual scalar components of a matrix \n",
    "- Create vectors and matrices using Numpy and Python\n",
    "\n",
    "## 1. Define two arrays $A$  with shape $ (4 \\times 2)$ and $B$ with shape $(2 \\times 3)$ \n",
    "So    $A =    \n",
    "  \\left[ {\\begin{array}{cc}\n",
    "   1402 & 191 \\\\\n",
    "   1371 &  821\\\\\n",
    "   949 &  1437 \\\\\n",
    "   147 & 1448 \\\\\n",
    "  \\end{array} }\\right]\n",
    "$\n",
    "and\n",
    "$\n",
    "B =    \n",
    "  \\left[ {\\begin{array}{ccc}\n",
    "   1 & 2 & 3 \\\\\n",
    "   4 & 5 & 6\\\\\n",
    "  \\end{array} }\\right]\n",
    "$"
   ]
  },
  {
   "cell_type": "code",
   "execution_count": 1,
   "metadata": {},
   "outputs": [],
   "source": [
    "import numpy as np"
   ]
  },
  {
   "cell_type": "code",
   "execution_count": 2,
   "metadata": {},
   "outputs": [
    {
     "name": "stdout",
     "output_type": "stream",
     "text": [
      "A:\n",
      " [[1402  191]\n",
      " [1371  821]\n",
      " [ 949 1437]\n",
      " [ 147 1448]]\n",
      "B:\n",
      " [[1 2 3]\n",
      " [4 5 6]]\n"
     ]
    }
   ],
   "source": [
    "A = np.array([[1402, 191], [1371, 821], [949, 1437], [147, 1448]])\n",
    "B = np.array([[1, 2, 3], [4, 5, 6]])\n",
    "\n",
    "print('A:\\n', A)\n",
    "print('B:\\n', B)"
   ]
  },
  {
   "cell_type": "markdown",
   "metadata": {},
   "source": [
    "## 2. Print the dimensions of $A$ and $B$ "
   ]
  },
  {
   "cell_type": "code",
   "execution_count": 3,
   "metadata": {},
   "outputs": [
    {
     "name": "stdout",
     "output_type": "stream",
     "text": [
      "Shape of A: (4, 2)\n",
      "Shape of B: (2, 3)\n"
     ]
    }
   ],
   "source": [
    "print(\"Shape of A:\", A.shape)\n",
    "print(\"Shape of B:\", B.shape)"
   ]
  },
  {
   "cell_type": "markdown",
   "metadata": {},
   "source": [
    "## 3. Print elements from $A$\n",
    "\n",
    "Print the following elements from $A$: \n",
    "\n",
    "* First row and first column\n",
    "* First row and second column\n",
    "* Third row and second column\n",
    "* Fourth row and first column"
   ]
  },
  {
   "cell_type": "code",
   "execution_count": 4,
   "metadata": {},
   "outputs": [
    {
     "name": "stdout",
     "output_type": "stream",
     "text": [
      "1402\n",
      "191\n",
      "1437\n",
      "147\n"
     ]
    }
   ],
   "source": [
    "print(A[0, 0])\n",
    "print(A[0, 1])\n",
    "print(A[2, 1])\n",
    "print(A[3, 0])"
   ]
  },
  {
   "cell_type": "markdown",
   "metadata": {},
   "source": [
    "## 4. Write a routine to populate a matrix with random data\n",
    "* Create an $(3 \\times 3)$ Numpy array with all zeros (use `np.zeros()`)\n",
    "* Access each location $(i,j)$ of this matrix and fill in random values between the range 1 and 10 "
   ]
  },
  {
   "cell_type": "code",
   "execution_count": 5,
   "metadata": {},
   "outputs": [
    {
     "data": {
      "text/plain": [
       "array([[1., 6., 5.],\n",
       "       [3., 5., 0.],\n",
       "       [3., 1., 4.]])"
      ]
     },
     "execution_count": 5,
     "metadata": {},
     "output_type": "execute_result"
    }
   ],
   "source": [
    "C = np.zeros((3,3))\n",
    "for i in range(C.shape[0]):\n",
    "    for j in range(C.shape[1]):\n",
    "        C[i,j] = np.random.randint(10)\n",
    "C"
   ]
  },
  {
   "cell_type": "code",
   "execution_count": 6,
   "metadata": {},
   "outputs": [
    {
     "data": {
      "text/plain": [
       "array([[8, 9, 7],\n",
       "       [3, 5, 6],\n",
       "       [7, 5, 5]])"
      ]
     },
     "execution_count": 6,
     "metadata": {},
     "output_type": "execute_result"
    }
   ],
   "source": [
    "# Or more simply:\n",
    "C = np.random.randint(10, size=(3,3))\n",
    "C"
   ]
  },
  {
   "cell_type": "markdown",
   "metadata": {},
   "source": [
    "## 5. Turn the above routine into a function\n",
    "* Create two $(4 \\times 4)$ zero-valued matrices and fill with random data using the function\n",
    "* Add the matrices together in Numpy \n",
    "* Print the results"
   ]
  },
  {
   "cell_type": "code",
   "execution_count": 7,
   "metadata": {},
   "outputs": [
    {
     "data": {
      "text/plain": [
       "array([[ 6.,  7.,  9.,  7.],\n",
       "       [13.,  5.,  8., 12.],\n",
       "       [12., 11.,  3.,  9.],\n",
       "       [18., 10.,  8.,  7.]])"
      ]
     },
     "execution_count": 7,
     "metadata": {},
     "output_type": "execute_result"
    }
   ],
   "source": [
    "def fill_matrix(matrix):\n",
    "    \"\"\"Takes a numpy 2D matrix as input, and fills it with random integers.\"\"\"\n",
    "    for i in range(matrix.shape[0]):\n",
    "        for j in range(matrix.shape[1]):\n",
    "            matrix[i,j] = np.random.randint(10)\n",
    "            \n",
    "D = np.zeros((4,4))\n",
    "E = np.zeros((4,4))\n",
    "\n",
    "for matrix in [D, E]:\n",
    "    fill_matrix(matrix)\n",
    "    \n",
    "F = D + E\n",
    "F"
   ]
  },
  {
   "cell_type": "markdown",
   "metadata": {},
   "source": [
    "## Summary \n",
    "\n",
    "In this lab, we saw how to create and manipulate vectors and matrices in Numpy. We shall now move forward to learning more complex operations including dot products and matrix inversions.  "
   ]
  }
 ],
 "metadata": {
  "kernelspec": {
   "display_name": "Python 3",
   "language": "python",
   "name": "python3"
  },
  "language_info": {
   "codemirror_mode": {
    "name": "ipython",
    "version": 3
   },
   "file_extension": ".py",
   "mimetype": "text/x-python",
   "name": "python",
   "nbconvert_exporter": "python",
   "pygments_lexer": "ipython3",
   "version": "3.7.3"
  }
 },
 "nbformat": 4,
 "nbformat_minor": 2
}
